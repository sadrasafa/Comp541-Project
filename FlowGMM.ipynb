{
  "nbformat": 4,
  "nbformat_minor": 0,
  "metadata": {
    "kernelspec": {
      "name": "julia-1.3",
      "display_name": "Julia 1.3"
    },
    "accelerator": "GPU",
    "colab": {
      "name": "FlowGMM.ipynb",
      "provenance": [],
      "collapsed_sections": [],
      "toc_visible": true,
      "include_colab_link": true
    }
  },
  "cells": [
    {
      "cell_type": "markdown",
      "metadata": {
        "id": "view-in-github",
        "colab_type": "text"
      },
      "source": [
        "<a href=\"https://colab.research.google.com/github/sadrasafa/Comp541-Project/blob/master/FlowGMM.ipynb\" target=\"_parent\"><img src=\"https://colab.research.google.com/assets/colab-badge.svg\" alt=\"Open In Colab\"/></a>"
      ]
    },
    {
      "cell_type": "markdown",
      "metadata": {
        "id": "Q7S9cpFJqfXy",
        "colab_type": "text"
      },
      "source": [
        "## Julia on Colaboratory ##\n"
      ]
    },
    {
      "cell_type": "code",
      "metadata": {
        "id": "BrHjOFFsxf7W",
        "colab_type": "code",
        "outputId": "347c23f7-4017-4982-c2ae-5dfc2d0eedd6",
        "colab": {
          "base_uri": "https://localhost:8080/",
          "height": 1000
        }
      },
      "source": [
        "# Installation cell\n",
        "%%shell\n",
        "if ! command -v julia 2>&1 > /dev/null\n",
        "then\n",
        "    wget 'https://julialang-s3.julialang.org/bin/linux/x64/1.3/julia-1.3.1-linux-x86_64.tar.gz' \\\n",
        "        -O /tmp/julia.tar.gz\n",
        "    tar -x -f /tmp/julia.tar.gz -C /usr/local --strip-components 1\n",
        "    rm /tmp/julia.tar.gz\n",
        "fi\n",
        "julia -e 'using Pkg; pkg\"add Plots; add PyPlot; add IJulia; add Knet; precompile\"'\n",
        "julia -e 'using Pkg; pkg\"build Knet;\"'"
      ],
      "execution_count": 0,
      "outputs": [
        {
          "output_type": "stream",
          "text": [
            "--2020-03-05 18:18:07--  https://julialang-s3.julialang.org/bin/linux/x64/1.3/julia-1.3.1-linux-x86_64.tar.gz\n",
            "Resolving julialang-s3.julialang.org (julialang-s3.julialang.org)... 151.101.2.49, 151.101.66.49, 151.101.130.49, ...\n",
            "Connecting to julialang-s3.julialang.org (julialang-s3.julialang.org)|151.101.2.49|:443... connected.\n",
            "HTTP request sent, awaiting response... 302 gce internal redirect trigger\n",
            "Location: https://storage.googleapis.com/julialang2/bin/linux/x64/1.3/julia-1.3.1-linux-x86_64.tar.gz [following]\n",
            "--2020-03-05 18:18:07--  https://storage.googleapis.com/julialang2/bin/linux/x64/1.3/julia-1.3.1-linux-x86_64.tar.gz\n",
            "Resolving storage.googleapis.com (storage.googleapis.com)... 172.217.11.176, 2607:f8b0:4007:803::2010\n",
            "Connecting to storage.googleapis.com (storage.googleapis.com)|172.217.11.176|:443... connected.\n",
            "HTTP request sent, awaiting response... 200 OK\n",
            "Length: 95929584 (91M) [application/x-gzip]\n",
            "Saving to: ‘/tmp/julia.tar.gz’\n",
            "\n",
            "/tmp/julia.tar.gz   100%[===================>]  91.49M  77.5MB/s    in 1.2s    \n",
            "\n",
            "2020-03-05 18:18:09 (77.5 MB/s) - ‘/tmp/julia.tar.gz’ saved [95929584/95929584]\n",
            "\n",
            "   Cloning default registries into `~/.julia`\n",
            "   Cloning registry from \"https://github.com/JuliaRegistries/General.git\"\n",
            "\u001b[2K\u001b[?25h     Added registry `General` to `~/.julia/registries/General`\n",
            " Resolving package versions...\n",
            " Installed Bzip2_jll ────────── v1.0.6+1\n",
            " Installed NaNMath ──────────── v0.3.3\n",
            " Installed libvorbis_jll ────── v1.3.6+2\n",
            " Installed LibVPX_jll ───────── v1.8.1+1\n",
            " Installed x265_jll ─────────── v3.0.0+0\n",
            " Installed PlotUtils ────────── v0.6.3\n",
            " Installed StatsBase ────────── v0.32.2\n",
            " Installed Plots ────────────── v0.29.5\n",
            " Installed Measures ─────────── v0.3.1\n",
            " Installed Showoff ──────────── v0.3.1\n",
            " Installed FriBidi_jll ──────── v1.0.5+2\n",
            " Installed DataAPI ──────────── v1.1.0\n",
            " Installed FFMPEG ───────────── v0.3.0\n",
            " Installed PlotThemes ───────── v1.0.1\n",
            " Installed OpenSSL_jll ──────── v1.1.1+1\n",
            " Installed GeometryTypes ────── v0.8.1\n",
            " Installed StaticArrays ─────── v0.12.1\n",
            " Installed Requires ─────────── v1.0.1\n",
            " Installed Zlib_jll ─────────── v1.2.11+8\n",
            " Installed RecipesBase ──────── v0.8.0\n",
            " Installed x264_jll ─────────── v2019.5.25+1\n",
            " Installed FreeType2_jll ────── v2.10.1+1\n",
            " Installed DataStructures ───── v0.17.10\n",
            " Installed ColorTypes ───────── v0.9.1\n",
            " Installed Colors ───────────── v0.11.2\n",
            " Installed SortingAlgorithms ── v0.3.1\n",
            " Installed Parsers ──────────── v0.3.12\n",
            " Installed FixedPointNumbers ── v0.7.1\n",
            " Installed Reexport ─────────── v0.2.0\n",
            " Installed JSON ─────────────── v0.21.0\n",
            " Installed OrderedCollections ─ v1.1.0\n",
            " Installed FFMPEG_jll ───────── v4.1.0+2\n",
            " Installed GR ───────────────── v0.47.0\n",
            " Installed Ogg_jll ──────────── v1.3.3+0\n",
            " Installed Contour ──────────── v0.5.2\n",
            " Installed Missings ─────────── v0.4.3\n",
            " Installed libass_jll ───────── v0.14.0+0\n",
            " Installed libfdk_aac_jll ───── v0.1.6+1\n",
            " Installed LAME_jll ─────────── v3.100.0+0\n",
            " Installed Opus_jll ─────────── v1.3.1+0\n",
            "  Updating `~/.julia/environments/v1.3/Project.toml`\n",
            "  [91a5bcdd] + Plots v0.29.5\n",
            "  Updating `~/.julia/environments/v1.3/Manifest.toml`\n",
            "  [6e34b625] + Bzip2_jll v1.0.6+1\n",
            "  [3da002f7] + ColorTypes v0.9.1\n",
            "  [5ae59095] + Colors v0.11.2\n",
            "  [d38c429a] + Contour v0.5.2\n",
            "  [9a962f9c] + DataAPI v1.1.0\n",
            "  [864edb3b] + DataStructures v0.17.10\n",
            "  [c87230d0] + FFMPEG v0.3.0\n",
            "  [b22a6f82] + FFMPEG_jll v4.1.0+2\n",
            "  [53c48c17] + FixedPointNumbers v0.7.1\n",
            "  [d7e528f0] + FreeType2_jll v2.10.1+1\n",
            "  [559328eb] + FriBidi_jll v1.0.5+2\n",
            "  [28b8d3ca] + GR v0.47.0\n",
            "  [4d00f742] + GeometryTypes v0.8.1\n",
            "  [682c06a0] + JSON v0.21.0\n",
            "  [c1c5ebd0] + LAME_jll v3.100.0+0\n",
            "  [dd192d2f] + LibVPX_jll v1.8.1+1\n",
            "  [442fdcdd] + Measures v0.3.1\n",
            "  [e1d29d7a] + Missings v0.4.3\n",
            "  [77ba4419] + NaNMath v0.3.3\n",
            "  [e7412a2a] + Ogg_jll v1.3.3+0\n",
            "  [458c3c95] + OpenSSL_jll v1.1.1+1\n",
            "  [91d4177d] + Opus_jll v1.3.1+0\n",
            "  [bac558e1] + OrderedCollections v1.1.0\n",
            "  [69de0a69] + Parsers v0.3.12\n",
            "  [ccf2f8ad] + PlotThemes v1.0.1\n",
            "  [995b91a9] + PlotUtils v0.6.3\n",
            "  [91a5bcdd] + Plots v0.29.5\n",
            "  [3cdcf5f2] + RecipesBase v0.8.0\n",
            "  [189a3867] + Reexport v0.2.0\n",
            "  [ae029012] + Requires v1.0.1\n",
            "  [992d4aef] + Showoff v0.3.1\n",
            "  [a2af1166] + SortingAlgorithms v0.3.1\n",
            "  [90137ffa] + StaticArrays v0.12.1\n",
            "  [2913bbd2] + StatsBase v0.32.2\n",
            "  [83775a58] + Zlib_jll v1.2.11+8\n",
            "  [0ac62f75] + libass_jll v0.14.0+0\n",
            "  [f638f0a6] + libfdk_aac_jll v0.1.6+1\n",
            "  [f27f6e37] + libvorbis_jll v1.3.6+2\n",
            "  [1270edf5] + x264_jll v2019.5.25+1\n",
            "  [dfaa095f] + x265_jll v3.0.0+0\n",
            "  [2a0f44e3] + Base64 \n",
            "  [ade2ca70] + Dates \n",
            "  [8bb1440f] + DelimitedFiles \n",
            "  [8ba89e20] + Distributed \n",
            "  [b77e0a4c] + InteractiveUtils \n",
            "  [76f85450] + LibGit2 \n",
            "  [8f399da3] + Libdl \n",
            "  [37e2e46d] + LinearAlgebra \n",
            "  [56ddb016] + Logging \n",
            "  [d6f4376e] + Markdown \n",
            "  [a63ad114] + Mmap \n",
            "  [44cfe95a] + Pkg \n",
            "  [de0858da] + Printf \n",
            "  [3fa0cd96] + REPL \n",
            "  [9a3f8284] + Random \n",
            "  [ea8e919c] + SHA \n",
            "  [9e88b42a] + Serialization \n",
            "  [6462fe0b] + Sockets \n",
            "  [2f01184e] + SparseArrays \n",
            "  [10745b16] + Statistics \n",
            "  [8dfed614] + Test \n",
            "  [cf7118a7] + UUIDs \n",
            "  [4ec0a83e] + Unicode \n",
            "  Building GR ───→ `~/.julia/packages/GR/tPkHV/deps/build.log`\n",
            "  Building Plots → `~/.julia/packages/Plots/PuQ4f/deps/build.log`\n",
            " Resolving package versions...\n",
            " Installed VersionParsing ─ v1.2.0\n",
            " Installed Conda ────────── v1.4.1\n",
            " Installed LaTeXStrings ─── v1.1.0\n",
            " Installed MacroTools ───── v0.5.4\n",
            " Installed PyPlot ───────── v2.8.2\n",
            " Installed PyCall ───────── v1.91.4\n",
            "  Updating `~/.julia/environments/v1.3/Project.toml`\n",
            "  [d330b81b] + PyPlot v2.8.2\n",
            "  Updating `~/.julia/environments/v1.3/Manifest.toml`\n",
            "  [8f4d0f93] + Conda v1.4.1\n",
            "  [b964fa9f] + LaTeXStrings v1.1.0\n",
            "  [1914dd2f] + MacroTools v0.5.4\n",
            "  [438e738f] + PyCall v1.91.4\n",
            "  [d330b81b] + PyPlot v2.8.2\n",
            "  [81def892] + VersionParsing v1.2.0\n",
            "  Building Conda ─→ `~/.julia/packages/Conda/3rPhK/deps/build.log`\n",
            "  Building PyCall → `~/.julia/packages/PyCall/zqDXB/deps/build.log`\n",
            " Resolving package versions...\n",
            " Installed MbedTLS ───────── v0.7.0\n",
            " Installed ZeroMQ_jll ────── v4.3.2+1\n",
            " Installed SoftGlobalScope ─ v1.0.10\n",
            " Installed ZMQ ───────────── v1.2.0\n",
            " Installed IJulia ────────── v1.21.1\n",
            " Installed BinaryProvider ── v0.5.8\n",
            "  Updating `~/.julia/environments/v1.3/Project.toml`\n",
            "  [7073ff75] + IJulia v1.21.1\n",
            "  Updating `~/.julia/environments/v1.3/Manifest.toml`\n",
            "  [b99e7846] + BinaryProvider v0.5.8\n",
            "  [7073ff75] + IJulia v1.21.1\n",
            "  [739be429] + MbedTLS v0.7.0\n",
            "  [b85f4697] + SoftGlobalScope v1.0.10\n",
            "  [c2297ded] + ZMQ v1.2.0\n",
            "  [8f1865be] + ZeroMQ_jll v4.3.2+1\n",
            "  [7b1f6079] + FileWatching \n",
            "  Building MbedTLS → `~/.julia/packages/MbedTLS/a1JFn/deps/build.log`\n",
            "  Building IJulia ─→ `~/.julia/packages/IJulia/yLI42/deps/build.log`\n",
            " Resolving package versions...\n",
            " Installed TimerOutputs ───────────────── v0.5.3\n",
            " Installed GPUArrays ──────────────────── v2.0.1\n",
            " Installed NNlib ──────────────────────── v0.6.6\n",
            " Installed CodecZlib ──────────────────── v0.6.0\n",
            " Installed CuArrays ───────────────────── v1.7.2\n",
            " Installed CompilerSupportLibraries_jll ─ v0.2.0+1\n",
            " Installed AutoGrad ───────────────────── v1.2.1\n",
            " Installed CUDAapi ────────────────────── v3.1.0\n",
            " Installed AbstractFFTs ───────────────── v0.5.0\n",
            " Installed CEnum ──────────────────────── v0.2.0\n",
            " Installed SpecialFunctions ───────────── v0.10.0\n",
            " Installed LLVM ───────────────────────── v1.3.3\n",
            " Installed JLD2 ───────────────────────── v0.1.12\n",
            " Installed TranscodingStreams ─────────── v0.9.5\n",
            " Installed Adapt ──────────────────────── v1.0.1\n",
            " Installed CUDAdrv ────────────────────── v6.0.0\n",
            " Installed CUDAnative ─────────────────── v2.10.2\n",
            " Installed OpenSpecFun_jll ────────────── v0.5.3+2\n",
            " Installed Knet ───────────────────────── v1.3.4\n",
            " Installed FileIO ─────────────────────── v1.2.2\n",
            "  Updating `~/.julia/environments/v1.3/Project.toml`\n",
            "  [1902f260] + Knet v1.3.4\n",
            "  Updating `~/.julia/environments/v1.3/Manifest.toml`\n",
            "  [621f4979] + AbstractFFTs v0.5.0\n",
            "  [79e6a3ab] + Adapt v1.0.1\n",
            "  [6710c13c] + AutoGrad v1.2.1\n",
            "  [fa961155] + CEnum v0.2.0\n",
            "  [3895d2a7] + CUDAapi v3.1.0\n",
            "  [c5f51814] + CUDAdrv v6.0.0\n",
            "  [be33ccc6] + CUDAnative v2.10.2\n",
            "  [944b1d66] + CodecZlib v0.6.0\n",
            "  [e66e0078] + CompilerSupportLibraries_jll v0.2.0+1\n",
            "  [3a865a2d] + CuArrays v1.7.2\n",
            "  [5789e2e9] + FileIO v1.2.2\n",
            "  [0c68f7d7] + GPUArrays v2.0.1\n",
            "  [033835bb] + JLD2 v0.1.12\n",
            "  [1902f260] + Knet v1.3.4\n",
            "  [929cbde3] + LLVM v1.3.3\n",
            "  [872c559c] + NNlib v0.6.6\n",
            "  [efe28fd5] + OpenSpecFun_jll v0.5.3+2\n",
            "  [276daf66] + SpecialFunctions v0.10.0\n",
            "  [a759f4b9] + TimerOutputs v0.5.3\n",
            "  [3bb67fe8] + TranscodingStreams v0.9.5\n",
            "  Building NNlib ────→ `~/.julia/packages/NNlib/FAI3o/deps/build.log`\n",
            "  Building CodecZlib → `~/.julia/packages/CodecZlib/5t9zO/deps/build.log`\n",
            "  Building Knet ─────→ `~/.julia/packages/Knet/vxHRi/deps/build.log`\n",
            "Precompiling project...\n",
            "Precompiling Knet\n",
            "Precompiling IJulia\n",
            "Precompiling Plots\n",
            "Precompiling PyPlot\n",
            "  Building NNlib ────→ `~/.julia/packages/NNlib/FAI3o/deps/build.log`\n",
            "  Building CodecZlib → `~/.julia/packages/CodecZlib/5t9zO/deps/build.log`\n",
            "  Building Knet ─────→ `~/.julia/packages/Knet/vxHRi/deps/build.log`\n"
          ],
          "name": "stdout"
        },
        {
          "output_type": "execute_result",
          "data": {
            "text/plain": [
              ""
            ]
          },
          "metadata": {
            "tags": []
          },
          "execution_count": 1
        }
      ]
    },
    {
      "cell_type": "code",
      "metadata": {
        "id": "1VdFDb9szt_o",
        "colab_type": "code",
        "outputId": "7966241c-f3b8-4b4c-b76d-0626886e0aa4",
        "colab": {
          "base_uri": "https://localhost:8080/",
          "height": 101
        }
      },
      "source": [
        "using Knet\n",
        "# Test if Knet is using gpu\n",
        "Knet.gpu()"
      ],
      "execution_count": 1,
      "outputs": [
        {
          "output_type": "stream",
          "text": [
            "┌ Info: Precompiling Knet [1902f260-5fb4-5aff-8c31-6271790ab950]\n",
            "└ @ Base loading.jl:1273\n",
            "┌ Warning: You are using CUDNN 7.6.5 for CUDA 10.1.0 with CUDA toolkit 10.0.130; these might be incompatible.\n",
            "└ @ CuArrays /root/.julia/packages/CuArrays/HE8G6/src/CuArrays.jl:127\n"
          ],
          "name": "stderr"
        },
        {
          "output_type": "execute_result",
          "data": {
            "text/plain": [
              "0"
            ]
          },
          "metadata": {
            "tags": []
          },
          "execution_count": 1
        }
      ]
    },
    {
      "cell_type": "markdown",
      "metadata": {
        "id": "tDF_WvugvoJn",
        "colab_type": "text"
      },
      "source": [
        "# Install Libraries"
      ]
    },
    {
      "cell_type": "code",
      "metadata": {
        "id": "bxbZJq4SuKvT",
        "colab_type": "code",
        "colab": {
          "base_uri": "https://localhost:8080/",
          "height": 1000
        },
        "outputId": "747a3603-8ae6-4853-8d92-ea5faa695407"
      },
      "source": [
        "using Pkg;\n",
        "\n",
        "# Install missing packages\n",
        "for p in [\"Knet\", \"MLJ\", \"MLJModels\", \"Distributions\", \"Plots\", \"PyPlot\"]\n",
        "    if !haskey(Pkg.installed(),p)\n",
        "        Pkg.add(p);\n",
        "    end\n",
        "end\n",
        "\n",
        "using Knet, Plots, Random, PyPlot, MLJ, Distributions, LinearAlgebra"
      ],
      "execution_count": 2,
      "outputs": [
        {
          "output_type": "stream",
          "text": [
            "\u001b[32m\u001b[1m  Updating\u001b[22m\u001b[39m registry at `~/.julia/registries/General`\n",
            "\u001b[32m\u001b[1m  Updating\u001b[22m\u001b[39m git-repo `https://github.com/JuliaRegistries/General.git`\n",
            "\u001b[?25l\u001b[2K\u001b[?25h\u001b[32m\u001b[1m Resolving\u001b[22m\u001b[39m package versions...\n",
            "\u001b[32m\u001b[1m Installed\u001b[22m\u001b[39m Rmath_jll ─────────────────── v0.2.2+0\n",
            "\u001b[32m\u001b[1m Installed\u001b[22m\u001b[39m StatsFuns ─────────────────── v0.9.4\n",
            "\u001b[32m\u001b[1m Installed\u001b[22m\u001b[39m QuadGK ────────────────────── v2.3.1\n",
            "\u001b[32m\u001b[1m Installed\u001b[22m\u001b[39m OpenBLAS_jll ──────────────── v0.3.7+6\n",
            "\u001b[32m\u001b[1m Installed\u001b[22m\u001b[39m CategoricalArrays ─────────── v0.7.7\n",
            "\u001b[32m\u001b[1m Installed\u001b[22m\u001b[39m HTTP ──────────────────────── v0.8.12\n",
            "\u001b[32m\u001b[1m Installed\u001b[22m\u001b[39m MLJBase ───────────────────── v0.11.10\n",
            "\u001b[32m\u001b[1m Installed\u001b[22m\u001b[39m MLJ ───────────────────────── v0.9.3\n",
            "\u001b[32m\u001b[1m Installed\u001b[22m\u001b[39m FillArrays ────────────────── v0.8.5\n",
            "\u001b[32m\u001b[1m Installed\u001b[22m\u001b[39m ComputationalResources ────── v0.3.1\n",
            "\u001b[32m\u001b[1m Installed\u001b[22m\u001b[39m DataValueInterfaces ───────── v1.0.0\n",
            "\u001b[32m\u001b[1m Installed\u001b[22m\u001b[39m LearnBase ─────────────────── v0.2.2\n",
            "\u001b[32m\u001b[1m Installed\u001b[22m\u001b[39m Arpack ────────────────────── v0.4.0\n",
            "\u001b[32m\u001b[1m Installed\u001b[22m\u001b[39m ProgressMeter ─────────────── v1.2.0\n",
            "\u001b[32m\u001b[1m Installed\u001b[22m\u001b[39m Arpack_jll ────────────────── v3.5.0+2\n",
            "\u001b[32m\u001b[1m Installed\u001b[22m\u001b[39m Distances ─────────────────── v0.8.2\n",
            "\u001b[32m\u001b[1m Installed\u001b[22m\u001b[39m IteratorInterfaceExtensions ─ v1.0.0\n",
            "\u001b[32m\u001b[1m Installed\u001b[22m\u001b[39m MLJModelInterface ─────────── v0.1.8\n",
            "\u001b[32m\u001b[1m Installed\u001b[22m\u001b[39m MLJScientificTypes ────────── v0.2.1\n",
            "\u001b[32m\u001b[1m Installed\u001b[22m\u001b[39m InvertedIndices ───────────── v1.0.0\n",
            "\u001b[32m\u001b[1m Installed\u001b[22m\u001b[39m Compat ────────────────────── v2.2.0\n",
            "\u001b[32m\u001b[1m Installed\u001b[22m\u001b[39m Distributions ─────────────── v0.22.5\n",
            "\u001b[32m\u001b[1m Installed\u001b[22m\u001b[39m Crayons ───────────────────── v4.0.1\n",
            "\u001b[32m\u001b[1m Installed\u001b[22m\u001b[39m Rmath ─────────────────────── v0.6.1\n",
            "\u001b[32m\u001b[1m Installed\u001b[22m\u001b[39m LossFunctions ─────────────── v0.5.1\n",
            "\u001b[32m\u001b[1m Installed\u001b[22m\u001b[39m PDMats ────────────────────── v0.9.11\n",
            "\u001b[32m\u001b[1m Installed\u001b[22m\u001b[39m Tables ────────────────────── v1.0.3\n",
            "\u001b[32m\u001b[1m Installed\u001b[22m\u001b[39m ScientificTypes ───────────── v0.7.1\n",
            "\u001b[32m\u001b[1m Installed\u001b[22m\u001b[39m MLJModels ─────────────────── v0.8.3\n",
            "\u001b[32m\u001b[1m Installed\u001b[22m\u001b[39m TableTraits ───────────────── v1.0.0\n",
            "\u001b[32m\u001b[1m Installed\u001b[22m\u001b[39m Formatting ────────────────── v0.4.1\n",
            "\u001b[32m\u001b[1m Installed\u001b[22m\u001b[39m PrettyTables ──────────────── v0.8.4\n",
            "\u001b[32m\u001b[1m Installed\u001b[22m\u001b[39m IniFile ───────────────────── v0.5.0\n",
            "\u001b[32m\u001b[1m Installed\u001b[22m\u001b[39m Parameters ────────────────── v0.12.0\n",
            "\u001b[32m\u001b[1m Installed\u001b[22m\u001b[39m MLJTuning ─────────────────── v0.1.4\n",
            "\u001b[32m\u001b[1m Installed\u001b[22m\u001b[39m MultivariateStats ─────────── v0.7.0\n",
            "\u001b[32m\u001b[1m  Updating\u001b[22m\u001b[39m `~/.julia/environments/v1.3/Project.toml`\n",
            " \u001b[90m [add582a8]\u001b[39m\u001b[92m + MLJ v0.9.3\u001b[39m\n",
            "\u001b[32m\u001b[1m  Updating\u001b[22m\u001b[39m `~/.julia/environments/v1.3/Manifest.toml`\n",
            " \u001b[90m [7d9fca2a]\u001b[39m\u001b[92m + Arpack v0.4.0\u001b[39m\n",
            " \u001b[90m [68821587]\u001b[39m\u001b[92m + Arpack_jll v3.5.0+2\u001b[39m\n",
            " \u001b[90m [324d7699]\u001b[39m\u001b[92m + CategoricalArrays v0.7.7\u001b[39m\n",
            " \u001b[90m [34da2185]\u001b[39m\u001b[92m + Compat v2.2.0\u001b[39m\n",
            " \u001b[90m [ed09eef8]\u001b[39m\u001b[92m + ComputationalResources v0.3.1\u001b[39m\n",
            " \u001b[90m [a8cc5b0e]\u001b[39m\u001b[92m + Crayons v4.0.1\u001b[39m\n",
            " \u001b[90m [e2d170a0]\u001b[39m\u001b[92m + DataValueInterfaces v1.0.0\u001b[39m\n",
            " \u001b[90m [b4f34e82]\u001b[39m\u001b[92m + Distances v0.8.2\u001b[39m\n",
            " \u001b[90m [31c24e10]\u001b[39m\u001b[92m + Distributions v0.22.5\u001b[39m\n",
            " \u001b[90m [1a297f60]\u001b[39m\u001b[92m + FillArrays v0.8.5\u001b[39m\n",
            " \u001b[90m [59287772]\u001b[39m\u001b[92m + Formatting v0.4.1\u001b[39m\n",
            " \u001b[90m [cd3eb016]\u001b[39m\u001b[92m + HTTP v0.8.12\u001b[39m\n",
            " \u001b[90m [83e8ac13]\u001b[39m\u001b[92m + IniFile v0.5.0\u001b[39m\n",
            " \u001b[90m [41ab1584]\u001b[39m\u001b[92m + InvertedIndices v1.0.0\u001b[39m\n",
            " \u001b[90m [82899510]\u001b[39m\u001b[92m + IteratorInterfaceExtensions v1.0.0\u001b[39m\n",
            " \u001b[90m [7f8f8fb0]\u001b[39m\u001b[92m + LearnBase v0.2.2\u001b[39m\n",
            " \u001b[90m [30fc2ffe]\u001b[39m\u001b[92m + LossFunctions v0.5.1\u001b[39m\n",
            " \u001b[90m [add582a8]\u001b[39m\u001b[92m + MLJ v0.9.3\u001b[39m\n",
            " \u001b[90m [a7f614a8]\u001b[39m\u001b[92m + MLJBase v0.11.10\u001b[39m\n",
            " \u001b[90m [e80e1ace]\u001b[39m\u001b[92m + MLJModelInterface v0.1.8\u001b[39m\n",
            " \u001b[90m [d491faf4]\u001b[39m\u001b[92m + MLJModels v0.8.3\u001b[39m\n",
            " \u001b[90m [2e2323e0]\u001b[39m\u001b[92m + MLJScientificTypes v0.2.1\u001b[39m\n",
            " \u001b[90m [03970b2e]\u001b[39m\u001b[92m + MLJTuning v0.1.4\u001b[39m\n",
            " \u001b[90m [6f286f6a]\u001b[39m\u001b[92m + MultivariateStats v0.7.0\u001b[39m\n",
            " \u001b[90m [4536629a]\u001b[39m\u001b[92m + OpenBLAS_jll v0.3.7+6\u001b[39m\n",
            " \u001b[90m [90014a1f]\u001b[39m\u001b[92m + PDMats v0.9.11\u001b[39m\n",
            " \u001b[90m [d96e819e]\u001b[39m\u001b[92m + Parameters v0.12.0\u001b[39m\n",
            " \u001b[90m [08abe8d2]\u001b[39m\u001b[92m + PrettyTables v0.8.4\u001b[39m\n",
            " \u001b[90m [92933f4c]\u001b[39m\u001b[92m + ProgressMeter v1.2.0\u001b[39m\n",
            " \u001b[90m [1fd47b50]\u001b[39m\u001b[92m + QuadGK v2.3.1\u001b[39m\n",
            " \u001b[90m [79098fc4]\u001b[39m\u001b[92m + Rmath v0.6.1\u001b[39m\n",
            " \u001b[90m [f50d1b31]\u001b[39m\u001b[92m + Rmath_jll v0.2.2+0\u001b[39m\n",
            " \u001b[90m [321657f4]\u001b[39m\u001b[92m + ScientificTypes v0.7.1\u001b[39m\n",
            " \u001b[90m [4c63d2b9]\u001b[39m\u001b[92m + StatsFuns v0.9.4\u001b[39m\n",
            " \u001b[90m [3783bdb8]\u001b[39m\u001b[92m + TableTraits v1.0.0\u001b[39m\n",
            " \u001b[90m [bd369af6]\u001b[39m\u001b[92m + Tables v1.0.3\u001b[39m\n",
            " \u001b[90m [9fa8497b]\u001b[39m\u001b[92m + Future \u001b[39m\n",
            " \u001b[90m [1a1011a3]\u001b[39m\u001b[92m + SharedArrays \u001b[39m\n",
            " \u001b[90m [4607b0f0]\u001b[39m\u001b[92m + SuiteSparse \u001b[39m\n",
            "\u001b[32m\u001b[1m Resolving\u001b[22m\u001b[39m package versions...\n",
            "\u001b[32m\u001b[1m  Updating\u001b[22m\u001b[39m `~/.julia/environments/v1.3/Project.toml`\n",
            " \u001b[90m [d491faf4]\u001b[39m\u001b[92m + MLJModels v0.8.3\u001b[39m\n",
            "\u001b[32m\u001b[1m  Updating\u001b[22m\u001b[39m `~/.julia/environments/v1.3/Manifest.toml`\n",
            "\u001b[90m [no changes]\u001b[39m\n",
            "\u001b[32m\u001b[1m Resolving\u001b[22m\u001b[39m package versions...\n",
            "\u001b[32m\u001b[1m  Updating\u001b[22m\u001b[39m `~/.julia/environments/v1.3/Project.toml`\n",
            " \u001b[90m [31c24e10]\u001b[39m\u001b[92m + Distributions v0.22.5\u001b[39m\n",
            "\u001b[32m\u001b[1m  Updating\u001b[22m\u001b[39m `~/.julia/environments/v1.3/Manifest.toml`\n",
            "\u001b[90m [no changes]\u001b[39m\n"
          ],
          "name": "stdout"
        },
        {
          "output_type": "stream",
          "text": [
            "┌ Info: Precompiling MLJ [add582a8-e3ab-11e8-2d5e-e98b27df1bc7]\n",
            "└ @ Base loading.jl:1273\n",
            "[ Info: Model metadata loaded from registry. \n"
          ],
          "name": "stderr"
        }
      ]
    },
    {
      "cell_type": "markdown",
      "metadata": {
        "id": "VmYkco-0Y6Bb",
        "colab_type": "text"
      },
      "source": [
        "# FlowGMM"
      ]
    },
    {
      "cell_type": "code",
      "metadata": {
        "id": "8cDqJrdTNX8e",
        "colab_type": "code",
        "outputId": "f9484032-1f8d-48d0-e452-aeae5ba7db57",
        "colab": {
          "base_uri": "https://localhost:8080/",
          "height": 34
        }
      },
      "source": [
        "atype = (Knet.gpu()>=0 ? Knet.KnetArray{Float32} : Array{Float32})"
      ],
      "execution_count": 3,
      "outputs": [
        {
          "output_type": "execute_result",
          "data": {
            "text/plain": [
              "KnetArray{Float32,N} where N"
            ]
          },
          "metadata": {
            "tags": []
          },
          "execution_count": 3
        }
      ]
    },
    {
      "cell_type": "code",
      "metadata": {
        "id": "zM-GrorcY7Ib",
        "colab_type": "code",
        "outputId": "c5bcd689-3206-4ed8-b75e-3759a2e05895",
        "colab": {
          "base_uri": "https://localhost:8080/",
          "height": 34
        }
      },
      "source": [
        "struct Mask; d; reverse; end\n",
        "\n",
        "#one argument: (mask) will return x_id and x_change\n",
        "#two argument: (unmask) will_return concat(y_id, y_change)\n",
        "function (mask::Mask)(x) \n",
        "    len = size(x, 1)\n",
        "    b = convert(atype,zeros(len,1))\n",
        "    d = mask.d\n",
        "    if mask.reverse \n",
        "        b[d+1:end,1] .= 1\n",
        "    else\n",
        "        b[1:d,1] .= 1\n",
        "    end\n",
        "    x_id = x .* b\n",
        "    x_change = x .* (1 .- b)\n",
        "    return x_id, x_change\n",
        "end\n",
        "function (mask::Mask)(y_id, y_change)\n",
        "    len = size(y_id, 1)\n",
        "    b = convert(atype,zeros(len,1))\n",
        "    d = mask.d\n",
        "    if mask.reverse \n",
        "        b[d+1:end,1] .= 1\n",
        "    else\n",
        "        b[1:d,1] .= 1\n",
        "    end\n",
        "    return y_id .* b + y_change .* (1 .- b)\n",
        "end\n",
        "\n",
        "\n",
        "struct Sequential\n",
        "    layers\n",
        "    Sequential(layers...) = new(layers)\n",
        "end\n",
        "(s::Sequential)(x) = (for l in s.layers; x = l(x); end; x)\n",
        "\n",
        "struct DenseLayer; w; b; f; end\n",
        "\n",
        "DenseLayer(i::Int,o::Int, f=relu) = DenseLayer(param(o,i), param0(o), f)\n",
        "\n",
        "(d::DenseLayer)(x) = d.f.(d.w * x .+ d.b)\n",
        "\n",
        "\n",
        "\n",
        "#Coupling Layer\n",
        "mutable struct CouplingLayer; st_net::Sequential; mask::Mask; logdet; end\n",
        "\n",
        "function CouplingLayer(;in_dim::Int, hidden_dim::Int, num_layers::Int, mask::Mask)\n",
        "    layers = []\n",
        "    push!(layers, DenseLayer(in_dim, hidden_dim, relu))\n",
        "    for layer in 1:num_layers\n",
        "        push!(layers, DenseLayer(hidden_dim, hidden_dim, relu))\n",
        "    end\n",
        "    push!(layers, DenseLayer(hidden_dim, 2*in_dim, identity))\n",
        "    st_net = Sequential(layers...)\n",
        "    CouplingLayer(st_net, mask, 0.0)\n",
        "end\n",
        "\n",
        "function (cpl::CouplingLayer)(x)\n",
        "    x_id, x_change, s, t = get_s_and_t(cpl, x)\n",
        "    y_change = x_change .* exp.(s) .+ t #in original code, first addition is performed, then exponentiation\n",
        "    y_id = x_id\n",
        "    cpl.logdet = sum(s; dims=1)\n",
        "    return cpl.mask(y_id, y_change)\n",
        "end\n",
        "#st is a neural network, the first part of the output is used as s, second part as t\n",
        "function get_s_and_t(cpl::CouplingLayer, x)\n",
        "    x_id, x_change = cpl.mask(x)\n",
        "    st = cpl.st_net(x_id)\n",
        "    middle = (size(st)[1]+1)÷2\n",
        "    s, t = st[1:middle,:], st[middle+1:end,:]\n",
        "    return (x_id, x_change, s, t)\n",
        "end\n",
        "\n",
        "\n",
        "struct RealNVP; seq::Sequential; end\n",
        "\n",
        "function RealNVP(;in_dim::Int, hidden_dim::Int, num_coupling_layers::Int, num_hidden_layers::Int)\n",
        "    coupling_layers = []\n",
        "    for i in 1:num_coupling_layers\n",
        "        push!(coupling_layers, CouplingLayer(;in_dim=in_dim, hidden_dim=hidden_dim, num_layers=num_hidden_layers, mask=Mask(div(in_dim,2), Bool(i%2))))\n",
        "    end\n",
        "    seq = Sequential(coupling_layers...)\n",
        "    RealNVP(seq)\n",
        "end\n",
        "\n",
        "(realnvp::RealNVP)(x) = realnvp.seq(x)\n",
        "\n",
        "function logdet(realNVP::RealNVP)\n",
        "    total_logdet = 0.0\n",
        "    for cpl in realNVP.seq.layers\n",
        "        total_logdet = total_logdet .+ cpl.logdet\n",
        "    end\n",
        "    return total_logdet\n",
        "end"
      ],
      "execution_count": 4,
      "outputs": [
        {
          "output_type": "execute_result",
          "data": {
            "text/plain": [
              "logdet (generic function with 1 method)"
            ]
          },
          "metadata": {
            "tags": []
          },
          "execution_count": 4
        }
      ]
    },
    {
      "cell_type": "code",
      "metadata": {
        "id": "ijXknOcrshJt",
        "colab_type": "code",
        "outputId": "93e9737e-5919-4d49-dafb-9b6dc96110e3",
        "colab": {
          "base_uri": "https://localhost:8080/",
          "height": 34
        }
      },
      "source": [
        "function make_moons_ssl()\n",
        "    Knet.seed!(2020)\n",
        "    Random.seed!(2020)\n",
        "    n_samples = 1000\n",
        "    data = MLJ.make_moons(n_samples;noise=.05,)\n",
        "    data = convert(atype, permutedims(hcat(data[1][1], data[1][2])))\n",
        "    labels = convert(atype, ones(1,n_samples)) * (-1)\n",
        "    idx1 = [1 2 4 5 6]\n",
        "    labels[idx1] = 1\n",
        "    idx0 = [3 7 8 11 18]\n",
        "    labels[idx0] = 0\n",
        "    return data, labels\n",
        "end"
      ],
      "execution_count": 5,
      "outputs": [
        {
          "output_type": "execute_result",
          "data": {
            "text/plain": [
              "make_moons_ssl (generic function with 1 method)"
            ]
          },
          "metadata": {
            "tags": []
          },
          "execution_count": 5
        }
      ]
    },
    {
      "cell_type": "code",
      "metadata": {
        "id": "0xKgo2ecIRwK",
        "colab_type": "code",
        "outputId": "7a005c7b-4874-49b9-afd7-e1a06cfcd058",
        "colab": {
          "base_uri": "https://localhost:8080/",
          "height": 34
        }
      },
      "source": [
        "struct Prior; means; n_components; d; gaussians; weights; end\n",
        "#n_components: number of classes\n",
        "#d: feature dimenstion of data points\n",
        "#means: d x n_components\n",
        "#gaussians: we have n_components multivariate-gaussians, each with size d\n",
        "function Prior(means)\n",
        "    d, n_components = size(means)\n",
        "    weights = convert(atype, ones(1, n_components))\n",
        "    gaussians = []\n",
        "    for i in 1:n_components\n",
        "        mu = means[:,i]\n",
        "        sig = Matrix{Float64}(I, d, d)\n",
        "        push!(gaussians, MvNormal(mu, sig))\n",
        "    end\n",
        "    Prior(means, n_components, d, gaussians, weights)\n",
        "end\n",
        "\n",
        "function log_prob(prior::Prior, z, labels=nothing; label_weight=1.0)\n",
        "    all_log_probs = []\n",
        "    for g in prior.gaussians\n",
        "        push!(all_log_probs, logpdf(g, convert(Array{Float32}, z)))\n",
        "    end\n",
        "    all_log_probs = convert(atype, hcat(all_log_probs...)) #n_instances x n_components\n",
        "    mixture_log_probs = logsumexp(all_log_probs .+ log.(softmax(prior.weights)); dims=2)\n",
        "    if labels == nothing\n",
        "        return mixture_log_probs\n",
        "    else\n",
        "        log_probs = convert(atype, zeros(size(mixture_log_probs)))\n",
        "        int_labels = convert(Array{Int32}, labels)\n",
        "        mask = (int_labels .== -1)\n",
        "        log_probs[mask] += mixture_log_probs[mask]\n",
        "        for i in 1:prior.n_components\n",
        "            mask = (int_labels .== (i-1))\n",
        "            log_probs[mask] += all_log_probs[:, i][mask] * label_weight\n",
        "        end\n",
        "        return log_probs\n",
        "    end\n",
        "end"
      ],
      "execution_count": 6,
      "outputs": [
        {
          "output_type": "execute_result",
          "data": {
            "text/plain": [
              "log_prob (generic function with 2 methods)"
            ]
          },
          "metadata": {
            "tags": []
          },
          "execution_count": 6
        }
      ]
    },
    {
      "cell_type": "code",
      "metadata": {
        "id": "lcU5YnVLsAbS",
        "colab_type": "code",
        "outputId": "bf72a4f1-e123-4efd-aea9-693fd2fe4acc",
        "colab": {
          "base_uri": "https://localhost:8080/",
          "height": 34
        }
      },
      "source": [
        "function flow_loss(z, logdet, labels, prior; k=256)\n",
        "    prior_ll = log_prob(prior, z, labels)\n",
        "\n",
        "    #I dont know why we are doing this correction\n",
        "    batch_size = size(z,2)\n",
        "    kk = length(z) / batch_size \n",
        "    \n",
        "    corrected_prior_ll = prior_ll .- log(k) * kk\n",
        "    \n",
        "    ll = corrected_prior_ll + permutedims(logdet)\n",
        "    nll = -mean(ll)\n",
        "    return nll\n",
        "end"
      ],
      "execution_count": 71,
      "outputs": [
        {
          "output_type": "execute_result",
          "data": {
            "text/plain": [
              "flow_loss (generic function with 1 method)"
            ]
          },
          "metadata": {
            "tags": []
          },
          "execution_count": 71
        }
      ]
    },
    {
      "cell_type": "code",
      "metadata": {
        "id": "fj8bw-kFr47L",
        "colab_type": "code",
        "outputId": "1c7d2ca7-138e-46a5-f184-c236d59534fb",
        "colab": {
          "base_uri": "https://localhost:8080/",
          "height": 34
        }
      },
      "source": [
        "data, labels = make_moons_ssl()\n",
        "prior = Prior([-3.5 3.5; -3.5 3.5])\n",
        "realnvp = RealNVP(in_dim=2, hidden_dim=512, num_coupling_layers=5, num_hidden_layers=1)\n",
        "z = realnvp(data)\n",
        "sldj = logdet(realnvp)\n",
        "loss = flow_loss(z, sldj, labels, prior)"
      ],
      "execution_count": 58,
      "outputs": [
        {
          "output_type": "execute_result",
          "data": {
            "text/plain": [
              "23.688066f0"
            ]
          },
          "metadata": {
            "tags": []
          },
          "execution_count": 58
        }
      ]
    },
    {
      "cell_type": "code",
      "metadata": {
        "id": "l5vLE8S7PPYn",
        "colab_type": "code",
        "colab": {}
      },
      "source": [
        "lr = 1e-4\n",
        "epochs = 2001\n",
        "\n",
        "num_unlabeled = Int(sum(labels .== -1))\n",
        "num_labeled = size(labels)[2] - num_unlabeled\n",
        "batch_size = num_labeled\n",
        "print_freq = 500\n",
        "\n",
        "int_labels = convert(Array{Int32}, labels)\n",
        "\n",
        "mask_labeled = [index[2] for index in findall(label->label!=-1, int_labels)]\n",
        "labeled_data = data[:,mask_labeled]\n",
        "labeled_labels = labels[mask_labeled]\n",
        "\n",
        "mask_unlabeled = [index[2] for index in findall(label->label==-1, int_labels)]\n",
        "unlabeled_data = data[:, mask_unlabeled]\n",
        "unlabeled_labels = labels[mask_unlabeled]\n",
        "\n",
        "for p in Knet.params(realnvp)\n",
        "    p.opt = Adam(;lr=lr)\n",
        "end\n",
        "\n",
        "for epoch in 1:epochs\n",
        "    batch_idx = Distributions.sample(1:num_unlabeled, batch_size, replace=false)\n",
        "    batch_x, batch_y = unlabeled_data[:, batch_idx], unlabeled_labels[batch_idx]\n",
        "    batch_x = hcat(batch_x, labeled_data)\n",
        "    batch_y = vcat(batch_y, labeled_labels)\n",
        "\n",
        "    z = realnvp(batch_x)\n",
        "    sldj = logdet(realnvp)\n",
        "    loss = @diff flow_loss(z, sldj, batch_y, prior)\n",
        "    for p in Knet.params(realnvp)\n",
        "        g = Knet.grad(loss, p)\n",
        "        update!(Knet.value(p), g, p.opt)\n",
        "    end\n",
        "    if epoch % print_freq == 0\n",
        "        print(\"iter \")\n",
        "        print(epoch)\n",
        "        print(\" loss: \")\n",
        "        print(loss)\n",
        "        println(\" \")\n",
        "    end\n",
        "    if epoch == Int(floor(epochs * 0.5)) || epoch == Int(floor(epochs * 0.8))\n",
        "        lr /= 10\n",
        "        for p in Knet.params(realnvp)\n",
        "            p.opt = Adam(;lr=lr)\n",
        "        end\n",
        "    end\n",
        "end"
      ],
      "execution_count": 0,
      "outputs": []
    },
    {
      "cell_type": "code",
      "metadata": {
        "id": "Im6KjjTnYYbp",
        "colab_type": "code",
        "colab": {}
      },
      "source": [
        ""
      ],
      "execution_count": 0,
      "outputs": []
    }
  ]
}